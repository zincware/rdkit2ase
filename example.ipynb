{
 "cells": [
  {
   "cell_type": "markdown",
   "id": "e555a3bc",
   "metadata": {},
   "source": [
    "# rdkit2ase example"
   ]
  },
  {
   "cell_type": "markdown",
   "id": "ace92c74",
   "metadata": {},
   "source": [
    "# install packmol and rdkit2ase\n",
    "!julia -e 'import Pkg; Pkg.add(\"Packmol\")'\n",
    "!pip install rdkit2ase"
   ]
  },
  {
   "cell_type": "code",
   "execution_count": null,
   "id": "64e4f291",
   "metadata": {},
   "outputs": [],
   "source": [
    "import ase\n",
    "from ase.visualize import view\n",
    "from rdkit import Chem\n",
    "\n",
    "import rdkit2ase"
   ]
  },
  {
   "cell_type": "code",
   "execution_count": null,
   "id": "935923e8",
   "metadata": {},
   "outputs": [],
   "source": [
    "water: list[ase.Atoms] = rdkit2ase.smiles2conformers(\"O\", numConfs=10)\n",
    "acetic_acid: list[ase.Atoms] = rdkit2ase.smiles2conformers(\"CC(=O)O\", numConfs=10)\n",
    "view(acetic_acid[0], viewer=\"x3d\")"
   ]
  },
  {
   "cell_type": "code",
   "execution_count": null,
   "id": "6701394c",
   "metadata": {},
   "outputs": [],
   "source": [
    "box = rdkit2ase.pack(\n",
    "    data=[water, acetic_acid], counts=[10, 10], density=800, packmol=\"packmol.jl\"\n",
    ")"
   ]
  },
  {
   "cell_type": "code",
   "execution_count": null,
   "id": "197aba42",
   "metadata": {},
   "outputs": [],
   "source": [
    "view(box, viewer=\"x3d\")"
   ]
  },
  {
   "cell_type": "code",
   "execution_count": null,
   "id": "907abd45",
   "metadata": {},
   "outputs": [],
   "source": [
    "mol: Chem.Mol = rdkit2ase.ase2rdkit(acetic_acid[0])\n",
    "mol"
   ]
  },
  {
   "cell_type": "code",
   "execution_count": null,
   "id": "82456f46",
   "metadata": {},
   "outputs": [],
   "source": [
    "acetic_acid[0].info[\"connectivity\"]"
   ]
  },
  {
   "cell_type": "code",
   "execution_count": null,
   "id": "f99471a1",
   "metadata": {},
   "outputs": [],
   "source": [
    "# Structures without connectivity information can also be converted to RDKit molecules.\n",
    "acetic_acid[0].info.pop(\"connectivity\")\n",
    "mol: Chem.Mol = rdkit2ase.ase2rdkit(acetic_acid[0])\n",
    "mol"
   ]
  },
  {
   "cell_type": "code",
   "execution_count": null,
   "id": "66df1fcc",
   "metadata": {},
   "outputs": [],
   "source": [
    "pattern = \"[C;H3]([H])([H])[H]\"\n",
    "fragments = rdkit2ase.get_substructures(acetic_acid[0], pattern=pattern)\n",
    "print(rdkit2ase.match_substructure(acetic_acid[0], pattern=pattern))\n",
    "print(fragments)\n",
    "view(fragments[0], viewer=\"x3d\")"
   ]
  },
  {
   "cell_type": "code",
   "execution_count": null,
   "id": "7568712d",
   "metadata": {},
   "outputs": [],
   "source": []
  }
 ],
 "metadata": {
  "kernelspec": {
   "display_name": ".venv",
   "language": "python",
   "name": "python3"
  },
  "language_info": {
   "codemirror_mode": {
    "name": "ipython",
    "version": 3
   },
   "file_extension": ".py",
   "mimetype": "text/x-python",
   "name": "python",
   "nbconvert_exporter": "python",
   "pygments_lexer": "ipython3",
   "version": "3.11.11"
  }
 },
 "nbformat": 4,
 "nbformat_minor": 5
}
