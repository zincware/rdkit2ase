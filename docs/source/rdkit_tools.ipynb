{
 "cells": [
  {
   "cell_type": "markdown",
   "metadata": {},
   "source": [
    "# RDKit Interface\n",
    "\n",
    "RDKit is a cheminformatics toolkit that provides extensive functionality for molecular manipulation, analysis, and property calculation.\n",
    "\n",
    "RDKit molecules contain **explicit bond information**.\n",
    "\n",
    "For more information about RDKit, visit https://www.rdkit.org/docs/index.html"
   ]
  },
  {
   "cell_type": "code",
   "execution_count": 1,
   "metadata": {},
   "outputs": [],
   "source": [
    "from rdkit import Chem\n",
    "from rdkit.Chem import Draw\n",
    "from IPython.display import display\n",
    "\n",
    "import molify"
   ]
  },
  {
   "cell_type": "markdown",
   "metadata": {},
   "source": [
    "## RDKit → ASE: connectivity key.\n",
    "\n",
    "When we convert from RDKit to ASE, all the bond information is preserved in the ``atoms.info['connectivity']`` object and the initial charge state of the atoms object.\n",
    "The following example creates an acetic acid molecule to demonstrate this conversion."
   ]
  },
  {
   "cell_type": "code",
   "execution_count": 2,
   "metadata": {},
   "outputs": [
    {
     "name": "stdout",
     "output_type": "stream",
     "text": [
      "Acetic acid molecule:\n"
     ]
    },
    {
     "data": {
      "image/png": "[encoded data removed]",
      "text/plain": [
       "<rdkit.Chem.rdchem.Mol at 0x1132f9fc0>"
      ]
     },
     "metadata": {},
     "output_type": "display_data"
    }
   ],
   "source": [
    "# Create acetic acid from SMILES\n",
    "acetic_acid = Chem.MolFromSmiles(\"CC(=O)[O-]\")\n",
    "acetic_acid = Chem.AddHs(acetic_acid)  # Add explicit hydrogens\n",
    "\n",
    "# Display the molecule\n",
    "print(\"Acetic acid molecule:\")\n",
    "display(acetic_acid)"
   ]
  },
  {
   "cell_type": "code",
   "execution_count": 3,
   "metadata": {},
   "outputs": [
    {
     "name": "stdout",
     "output_type": "stream",
     "text": [
      "Number of atoms: 7\n",
      "Chemical formula: C2H3O2\n",
      "\n",
      "Atoms object: Atoms(symbols='C2O2H3', pbc=False, initial_charges=...)\n",
      "Initial charge: [ 0.  0.  0. -1.  0.  0.  0.]\n"
     ]
    }
   ],
   "source": [
    "# Convert to ASE\n",
    "acetic_acid_atoms = molify.rdkit2ase(acetic_acid)\n",
    "\n",
    "print(f\"Number of atoms: {len(acetic_acid_atoms)}\")\n",
    "print(f\"Chemical formula: {acetic_acid_atoms.get_chemical_formula()}\")\n",
    "print(f\"\\nAtoms object: {acetic_acid_atoms}\")\n",
    "print(f\"Initial charge: {acetic_acid_atoms.get_initial_charges()}\")"
   ]
  },
  {
   "cell_type": "markdown",
   "metadata": {},
   "source": [
    "### The `connectivity` Data Structure\n",
    "\n",
    "The bond information is stored in `atoms.info['connectivity']` as a list of tuples:\n",
    "\n",
    "```python\n",
    "[(atom_idx_1, atom_idx_2, bond_order), ...]\n",
    "```\n",
    "\n",
    "Where:\n",
    "- **atom_idx_1, atom_idx_2**: 0-based integer atom indices\n",
    "- **bond_order**: Float representing bond type:\n",
    "  - `1.0` = single bond\n",
    "  - `2.0` = double bond  \n",
    "  - `3.0` = triple bond\n",
    "  - `1.5` = aromatic bond\n",
    "  - `None` = unknown bond order (we'll see this later)\n",
    "\n",
    "The following examines the connectivity:"
   ]
  },
  {
   "cell_type": "code",
   "execution_count": 4,
   "metadata": {},
   "outputs": [
    {
     "name": "stdout",
     "output_type": "stream",
     "text": [
      "Connectivity structure:\n",
      "Total bonds: 6\n",
      "\n",
      "  Bond 0: atom 0 (C) - atom 1 (C), order = 1.0\n",
      "  Bond 1: atom 1 (C) - atom 2 (O), order = 2.0\n",
      "  Bond 2: atom 1 (C) - atom 3 (O), order = 1.0\n",
      "  Bond 3: atom 0 (C) - atom 4 (H), order = 1.0\n",
      "  Bond 4: atom 0 (C) - atom 5 (H), order = 1.0\n",
      "  Bond 5: atom 0 (C) - atom 6 (H), order = 1.0\n"
     ]
    }
   ],
   "source": [
    "# Display the connectivity information\n",
    "connectivity = acetic_acid_atoms.info['connectivity']\n",
    "print(\"Connectivity structure:\")\n",
    "print(f\"Total bonds: {len(connectivity)}\\n\")\n",
    "\n",
    "for i, (atom1, atom2, bond_order) in enumerate(connectivity):\n",
    "    symbol1 = acetic_acid_atoms.get_chemical_symbols()[atom1]\n",
    "    symbol2 = acetic_acid_atoms.get_chemical_symbols()[atom2]\n",
    "    print(f\"  Bond {i}: atom {atom1} ({symbol1}) - atom {atom2} ({symbol2}), order = {bond_order}\")"
   ]
  },
  {
   "cell_type": "code",
   "execution_count": 5,
   "metadata": {},
   "outputs": [
    {
     "name": "stdout",
     "output_type": "stream",
     "text": [
      "Original SMILES: [H]C([H])([H])C(=O)[O-]\n",
      "\n",
      "All info keys: ['smiles', 'connectivity']\n"
     ]
    }
   ],
   "source": [
    "# The SMILES string is also stored for convenience\n",
    "print(f\"Original SMILES: {acetic_acid_atoms.info['smiles']}\")\n",
    "print(f\"\\nAll info keys: {list(acetic_acid_atoms.info.keys())}\")"
   ]
  },
  {
   "cell_type": "markdown",
   "metadata": {},
   "source": [
    "### Key Insight: No Guessing Required\n",
    "\n",
    "When converting from RDKit to ASE, **all bond information is explicit**:\n",
    "- ✅ Bond connectivity is known\n",
    "- ✅ Bond orders are known\n",
    "- ✅ Formal charges are preserved\n",
    "- ✅ SMILES string is stored"
   ]
  },
  {
   "cell_type": "markdown",
   "metadata": {},
   "source": [
    "## RDKit → NetworkX: Understanding Graph Structure\n",
    "\n",
    "NetworkX provides a graph-based representation that's useful for analyzing molecular topology, finding cycles, and understanding connectivity patterns.\n",
    "\n",
    "The following converts the same acetic acid molecule to a NetworkX graph:"
   ]
  },
  {
   "cell_type": "code",
   "execution_count": 6,
   "metadata": {},
   "outputs": [
    {
     "name": "stdout",
     "output_type": "stream",
     "text": [
      "Number of nodes (atoms): 7\n",
      "Number of edges (bonds): 6\n"
     ]
    }
   ],
   "source": [
    "import networkx as nx\n",
    "\n",
    "# Convert to NetworkX graph\n",
    "acetic_acid_graph = molify.rdkit2networkx(acetic_acid)\n",
    "\n",
    "print(f\"Number of nodes (atoms): {acetic_acid_graph.number_of_nodes()}\")\n",
    "print(f\"Number of edges (bonds): {acetic_acid_graph.number_of_edges()}\")"
   ]
  },
  {
   "cell_type": "markdown",
   "metadata": {},
   "source": [
    "### Node Attributes: Atom Properties\n",
    "\n",
    "Each node in the graph represents an atom with these attributes:\n",
    "- `atomic_number`: Element atomic number (e.g., 6 for carbon, 8 for oxygen)\n",
    "- `original_index`: Index from the RDKit molecule\n",
    "- `charge`: Formal charge on the atom\n",
    "\n",
    "The following examines a few nodes:"
   ]
  },
  {
   "cell_type": "code",
   "execution_count": 7,
   "metadata": {},
   "outputs": [
    {
     "name": "stdout",
     "output_type": "stream",
     "text": [
      "Node attributes (first 4 atoms):\n",
      "  Node 0: 6 (Z=6), charge=0\n",
      "  Node 1: 6 (Z=6), charge=0\n",
      "  Node 2: 8 (Z=8), charge=0\n",
      "  Node 3: 8 (Z=8), charge=-1\n"
     ]
    }
   ],
   "source": [
    "print(\"Node attributes:\")\n",
    "for node_id in list(acetic_acid_graph.nodes):\n",
    "    attrs = acetic_acid_graph.nodes[node_id]\n",
    "    atomic_num = attrs['atomic_number']\n",
    "    symbol = acetic_acid_graph.nodes[node_id][\"atomic_number\"]\n",
    "    print(f\"  Node {node_id}: {symbol} (Z={atomic_num}), charge={attrs['charge']}\")"
   ]
  },
  {
   "cell_type": "markdown",
   "metadata": {},
   "source": [
    "### Edge Attributes: Bond Information\n",
    "\n",
    "Each edge represents a bond with:\n",
    "- `bond_order`: The bond type (1.0, 2.0, 3.0, or 1.5 for aromatic)\n",
    "\n",
    "**Important**: When converting from RDKit, `bond_order` is **always present and explicit**."
   ]
  },
  {
   "cell_type": "code",
   "execution_count": 8,
   "metadata": {},
   "outputs": [
    {
     "name": "stdout",
     "output_type": "stream",
     "text": [
      "Edge attributes (first 5 bonds):\n",
      "  Edge 0: (z=6,id=(0)) - (z=6,id=(1)), bond_order=1\n",
      "  Edge 1: (z=6,id=(0)) - (z=1,id=(4)), bond_order=1\n",
      "  Edge 2: (z=6,id=(0)) - (z=1,id=(5)), bond_order=1\n",
      "  Edge 3: (z=6,id=(0)) - (z=1,id=(6)), bond_order=1\n",
      "  Edge 4: (z=6,id=(1)) - (z=8,id=(2)), bond_order=2\n"
     ]
    }
   ],
   "source": [
    "# Display edge attributes (bonds)\n",
    "print(\"Edge attributes (first 5 bonds):\")\n",
    "for i, (node1, node2, attrs) in enumerate(list(acetic_acid_graph.edges(data=True))[:5]):\n",
    "    symbol1 = acetic_acid_graph.nodes[node1]['atomic_number']\n",
    "    symbol2 = acetic_acid_graph.nodes[node2]['atomic_number']\n",
    "    bond_order = attrs['bond_order']\n",
    "    print(f\"  Edge {i}: (z={symbol1},id=({node1})) - (z={symbol2},id=({node2})), bond_order={bond_order}\")"
   ]
  },
  {
   "cell_type": "markdown",
   "metadata": {},
   "source": [
    "### Using NetworkX for Molecular Analysis\n",
    "\n",
    "The following creates a more interesting molecule - benzene - to demonstrate graph analysis:"
   ]
  },
  {
   "cell_type": "code",
   "execution_count": 9,
   "metadata": {},
   "outputs": [
    {
     "name": "stdout",
     "output_type": "stream",
     "text": [
      "Benzene molecule:\n"
     ]
    },
    {
     "data": {
      "image/png": "[encoded data removed]",
      "text/plain": [
       "<rdkit.Chem.rdchem.Mol at 0x1132fa110>"
      ]
     },
     "metadata": {},
     "output_type": "display_data"
    },
    {
     "name": "stdout",
     "output_type": "stream",
     "text": [
      "\n",
      "Nodes: 12, Edges: 12\n"
     ]
    }
   ],
   "source": [
    "# Create benzene\n",
    "benzene_mol = Chem.MolFromSmiles(\"c1ccccc1\")\n",
    "benzene_mol = Chem.AddHs(benzene_mol)\n",
    "\n",
    "print(\"Benzene molecule:\")\n",
    "display(benzene_mol)\n",
    "\n",
    "# Convert to graph\n",
    "benzene_graph = molify.rdkit2networkx(benzene_mol)\n",
    "print(f\"\\nNodes: {benzene_graph.number_of_nodes()}, Edges: {benzene_graph.number_of_edges()}\")"
   ]
  },
  {
   "cell_type": "code",
   "execution_count": 10,
   "metadata": {},
   "outputs": [
    {
     "name": "stdout",
     "output_type": "stream",
     "text": [
      "Number of cycles found: 1\n",
      "\n",
      "Aromatic ring (6-membered): [4, 3, 2, 1, 0, 5]\n",
      "\n",
      "Bond orders in the aromatic ring:\n",
      "  C4 - C3: 1.5 (aromatic)\n",
      "  C3 - C2: 1.5 (aromatic)\n",
      "  C2 - C1: 1.5 (aromatic)\n",
      "  C1 - C0: 1.5 (aromatic)\n",
      "  C0 - C5: 1.5 (aromatic)\n",
      "  C5 - C4: 1.5 (aromatic)\n"
     ]
    }
   ],
   "source": [
    "# Find all cycles in benzene\n",
    "cycles = nx.cycle_basis(benzene_graph)\n",
    "print(f\"Number of cycles found: {len(cycles)}\\n\")\n",
    "\n",
    "# The aromatic ring should be the largest cycle\n",
    "aromatic_ring = max(cycles, key=len)\n",
    "print(f\"Aromatic ring (6-membered): {aromatic_ring}\")\n",
    "\n",
    "# Check bond orders in the aromatic ring\n",
    "print(\"\\nBond orders in the aromatic ring:\")\n",
    "for i in range(len(aromatic_ring)):\n",
    "    node1 = aromatic_ring[i]\n",
    "    node2 = aromatic_ring[(i + 1) % len(aromatic_ring)]\n",
    "    if benzene_graph.has_edge(node1, node2):\n",
    "        bond_order = benzene_graph[node1][node2]['bond_order']\n",
    "        print(f\"  C{node1} - C{node2}: {bond_order} (aromatic)\")"
   ]
  },
  {
   "cell_type": "markdown",
   "metadata": {},
   "source": [
    "## Working with Complex Molecules\n",
    "\n",
    "The following examines a more complex molecule with different bond types - aspirin:"
   ]
  },
  {
   "cell_type": "code",
   "execution_count": 11,
   "metadata": {},
   "outputs": [
    {
     "name": "stdout",
     "output_type": "stream",
     "text": [
      "Aspirin molecule:\n"
     ]
    },
    {
     "data": {
      "image/png": "[encoded data removed]",
      "text/plain": [
       "<rdkit.Chem.rdchem.Mol at 0x1132fb680>"
      ]
     },
     "metadata": {},
     "output_type": "display_data"
    },
    {
     "name": "stdout",
     "output_type": "stream",
     "text": [
      "\n",
      "Atoms(symbols='C2O2C7O2H8', pbc=False)\n"
     ]
    }
   ],
   "source": [
    "# Create aspirin\n",
    "aspirin_smiles = \"CC(=O)Oc1ccccc1C(=O)O\"\n",
    "aspirin_mol = Chem.MolFromSmiles(aspirin_smiles)\n",
    "aspirin_mol = Chem.AddHs(aspirin_mol)\n",
    "\n",
    "print(\"Aspirin molecule:\")\n",
    "display(aspirin_mol)\n",
    "\n",
    "# Convert to ASE\n",
    "aspirin_atoms = molify.rdkit2ase(aspirin_mol)\n",
    "print(f\"\\n{aspirin_atoms}\")"
   ]
  },
  {
   "cell_type": "code",
   "execution_count": 12,
   "metadata": {},
   "outputs": [
    {
     "name": "stdout",
     "output_type": "stream",
     "text": [
      "Bond type distribution in aspirin:\n",
      "  single bonds (order=1.0): 13\n",
      "  aromatic bonds (order=1.5): 6\n",
      "  double bonds (order=2.0): 2\n"
     ]
    }
   ],
   "source": [
    "# Analyze bond types in aspirin\n",
    "from collections import Counter\n",
    "\n",
    "connectivity = aspirin_atoms.info['connectivity']\n",
    "bond_orders = [bond_order for _, _, bond_order in connectivity]\n",
    "bond_counts = Counter(bond_orders)\n",
    "\n",
    "print(\"Bond type distribution in aspirin:\")\n",
    "for bond_order, count in sorted(bond_counts.items()):\n",
    "    bond_type = {\n",
    "        1.0: \"single\",\n",
    "        1.5: \"aromatic\",\n",
    "        2.0: \"double\",\n",
    "        3.0: \"triple\"\n",
    "    }.get(bond_order, \"unknown\")\n",
    "    print(f\"  {bond_type} bonds (order={bond_order}): {count}\")"
   ]
  },
  {
   "cell_type": "markdown",
   "metadata": {},
   "source": [
    "## Converting Back: ASE/NetworkX → RDKit\n",
    "\n",
    "When we have explicit connectivity information (from RDKit originally), converting back is straightforward:"
   ]
  },
  {
   "cell_type": "code",
   "execution_count": 13,
   "metadata": {},
   "outputs": [
    {
     "name": "stdout",
     "output_type": "stream",
     "text": [
      "Original molecule:\n"
     ]
    },
    {
     "data": {
      "image/png": "[encoded data removed]",
      "text/plain": [
       "<rdkit.Chem.rdchem.Mol at 0x1132fb680>"
      ]
     },
     "metadata": {},
     "output_type": "display_data"
    },
    {
     "name": "stdout",
     "output_type": "stream",
     "text": [
      "\n",
      "Round-trip molecule (ASE → RDKit):\n"
     ]
    },
    {
     "data": {
      "image/png": "[encoded data removed]",
      "text/plain": [
       "<rdkit.Chem.rdchem.Mol at 0x1132fbb50>"
      ]
     },
     "metadata": {},
     "output_type": "display_data"
    }
   ],
   "source": [
    "# ASE → RDKit (round-trip)\n",
    "aspirin_roundtrip = molify.ase2rdkit(aspirin_atoms)\n",
    "\n",
    "print(\"Original molecule:\")\n",
    "display(aspirin_mol)\n",
    "\n",
    "print(\"\\nRound-trip molecule (ASE → RDKit):\")\n",
    "display(aspirin_roundtrip)"
   ]
  },
  {
   "cell_type": "markdown",
   "metadata": {},
   "source": [
    "## Working with Molecules from Collections\n",
    "\n",
    "ASE provides molecule databases. The following converts some of these to RDKit for visualization and analysis:"
   ]
  },
  {
   "cell_type": "code",
   "execution_count": 14,
   "metadata": {},
   "outputs": [
    {
     "name": "stdout",
     "output_type": "stream",
     "text": [
      "\n",
      "PH3:\n"
     ]
    },
    {
     "data": {
      "image/png": "[encoded data removed]",
      "text/plain": [
       "<rdkit.Chem.rdchem.Mol at 0x1133bc6d0>"
      ]
     },
     "metadata": {},
     "output_type": "display_data"
    },
    {
     "name": "stdout",
     "output_type": "stream",
     "text": [
      "\n",
      "P2:\n"
     ]
    },
    {
     "data": {
      "image/png": "[encoded data removed]",
      "text/plain": [
       "<rdkit.Chem.rdchem.Mol at 0x1133bc5f0>"
      ]
     },
     "metadata": {},
     "output_type": "display_data"
    },
    {
     "name": "stdout",
     "output_type": "stream",
     "text": [
      "\n",
      "CH3CHO:\n"
     ]
    },
    {
     "data": {
      "image/png": "[encoded data removed]",
      "text/plain": [
       "<rdkit.Chem.rdchem.Mol at 0x1133bc4a0>"
      ]
     },
     "metadata": {},
     "output_type": "display_data"
    },
    {
     "name": "stdout",
     "output_type": "stream",
     "text": [
      "\n",
      "H2COH:\n"
     ]
    },
    {
     "data": {
      "image/png": "[encoded data removed]",
      "text/plain": [
       "<rdkit.Chem.rdchem.Mol at 0x1133bc510>"
      ]
     },
     "metadata": {},
     "output_type": "display_data"
    },
    {
     "name": "stdout",
     "output_type": "stream",
     "text": [
      "\n",
      "CS:\n"
     ]
    },
    {
     "data": {
      "image/png": "[encoded data removed]",
      "text/plain": [
       "<rdkit.Chem.rdchem.Mol at 0x1133bc4a0>"
      ]
     },
     "metadata": {},
     "output_type": "display_data"
    }
   ],
   "source": [
    "from ase.collections import g2\n",
    "\n",
    "# Show a few molecules from the G2 database\n",
    "for idx, (atoms, name) in enumerate(zip(g2, g2.names)):\n",
    "    if idx >= 5:  # Show first 5\n",
    "        break\n",
    "    \n",
    "    print(f\"\\n{name}:\")\n",
    "    # Note: These molecules don't have connectivity, so we need suggestions\n",
    "    # We'll learn more about this in the NetworkX tools section\n",
    "    mol = molify.ase2rdkit(atoms, suggestions=[])\n",
    "    display(mol)"
   ]
  },
  {
   "cell_type": "markdown",
   "metadata": {},
   "source": [
    "## Key Takeaways\n",
    "\n",
    "### What We Learned\n",
    "\n",
    "1. **RDKit has explicit bond information**\n",
    "\n",
    "2. **ASE stores connectivity** in `atoms.info['connectivity']` as:\n",
    "   ```python\n",
    "   [(atom_idx_1, atom_idx_2, bond_order), ...]\n",
    "   ```\n",
    "\n",
    "3. **NetworkX graphs** store:\n",
    "   - Nodes: `atomic_number`, `original_index`, `charge`\n",
    "   - Edges: `bond_order` (always present from RDKit)\n",
    "\n",
    "4. **Conversions from RDKit are lossless** - all chemical information is preserved\n",
    "\n",
    "### Next Steps\n",
    "\n",
    "In the next sections, we'll learn:\n",
    "- How to create structures from SMILES strings directly ([ASE Tools](ase_tools.ipynb))\n",
    "- What happens when connectivity information is **not** available ([ASE Tools](ase_tools.ipynb))\n",
    "- How molify **infers bond orders** from 3D coordinates ([NetworkX Tools](networkx_tools.ipynb))\n",
    "- The `suggestions` parameter for helping with bond determination ([NetworkX Tools](networkx_tools.ipynb))"
   ]
  },
  {
   "cell_type": "markdown",
   "metadata": {},
   "source": []
  }
 ],
 "metadata": {
  "kernelspec": {
   "display_name": "rdkit2ase",
   "language": "python",
   "name": "python3"
  },
  "language_info": {
   "codemirror_mode": {
    "name": "ipython",
    "version": 3
   },
   "file_extension": ".py",
   "mimetype": "text/x-python",
   "name": "python",
   "nbconvert_exporter": "python",
   "pygments_lexer": "ipython3",
   "version": "3.11.11"
  }
 },
 "nbformat": 4,
 "nbformat_minor": 4
}
