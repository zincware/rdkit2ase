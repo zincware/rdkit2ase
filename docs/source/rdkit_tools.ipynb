{
 "cells": [
  {
   "cell_type": "markdown",
   "id": "054f658b",
   "metadata": {},
   "source": [
    "# RDKit Interface"
   ]
  },
  {
   "cell_type": "code",
   "execution_count": 1,
   "id": "b8f0b7ea",
   "metadata": {},
   "outputs": [],
   "source": [
    "import rdkit2ase"
   ]
  },
  {
   "cell_type": "markdown",
   "id": "425c3dbd",
   "metadata": {},
   "source": [
    "You can convert `ase.Atoms` to rdkit structures. This allows you to utilize all the features of rdkit together with your ase structure. To create structures from smiles, `rdkit2ase` uses rdkit to create the initial structures."
   ]
  },
  {
   "cell_type": "code",
   "execution_count": 2,
   "id": "1f6afb02",
   "metadata": {},
   "outputs": [
    {
     "name": "stdout",
     "output_type": "stream",
     "text": [
      "<rdkit.Chem.rdchem.Mol object at 0x132b98970>\n"
     ]
    },
    {
     "data": {
      "image/png": "[encoded data removed]",
      "text/plain": [
       "<rdkit.Chem.rdchem.Mol at 0x132b98970>"
      ]
     },
     "execution_count": 2,
     "metadata": {},
     "output_type": "execute_result"
    }
   ],
   "source": [
    "nitroanilin = rdkit2ase.smiles2atoms(smiles=\"c1cc(c(cc1)N)N(=O)=O\")\n",
    "mol = rdkit2ase.ase2rdkit(nitroanilin)\n",
    "print(mol)\n",
    "mol"
   ]
  }
 ],
 "metadata": {
  "kernelspec": {
   "display_name": ".venv",
   "language": "python",
   "name": "python3"
  },
  "language_info": {
   "codemirror_mode": {
    "name": "ipython",
    "version": 3
   },
   "file_extension": ".py",
   "mimetype": "text/x-python",
   "name": "python",
   "nbconvert_exporter": "python",
   "pygments_lexer": "ipython3",
   "version": "3.11.11"
  }
 },
 "nbformat": 4,
 "nbformat_minor": 5
}
