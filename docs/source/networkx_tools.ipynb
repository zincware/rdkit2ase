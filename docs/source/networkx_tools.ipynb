{
 "cells": [
  {
   "cell_type": "markdown",
   "id": "54882157",
   "metadata": {},
   "source": [
    "# NetworkX Interface"
   ]
  },
  {
   "cell_type": "code",
   "execution_count": 1,
   "id": "a8beafbc",
   "metadata": {},
   "outputs": [],
   "source": [
    "import networkx as nx\n",
    "\n",
    "import rdkit2ase"
   ]
  },
  {
   "cell_type": "code",
   "execution_count": 2,
   "id": "ddb4aead",
   "metadata": {},
   "outputs": [],
   "source": [
    "water = rdkit2ase.smiles2conformers(\"O\", numConfs=10)\n",
    "etoh = rdkit2ase.smiles2conformers(\"CCO\", numConfs=10)\n",
    "box = rdkit2ase.pack(\n",
    "    data=[water, etoh], counts=[5, 5], density=800, packmol=\"packmol.jl\"\n",
    ")"
   ]
  },
  {
   "cell_type": "code",
   "execution_count": 3,
   "id": "c05661e1",
   "metadata": {},
   "outputs": [
    {
     "name": "stdout",
     "output_type": "stream",
     "text": [
      "Graph with 60 atoms and 50 bonds.\n"
     ]
    }
   ],
   "source": [
    "graph = rdkit2ase.ase2networkx(box)\n",
    "print(f\"Graph with {len(graph)} atoms and {len(graph.edges())} bonds.\")"
   ]
  },
  {
   "cell_type": "code",
   "execution_count": 4,
   "id": "2134f6a2",
   "metadata": {},
   "outputs": [
    {
     "name": "stdout",
     "output_type": "stream",
     "text": [
      "Found 10 molecules\n"
     ]
    }
   ],
   "source": [
    "molecules = len(list(nx.connected_components(graph)))\n",
    "print(f\"Found {molecules} molecules\")"
   ]
  },
  {
   "cell_type": "code",
   "execution_count": 5,
   "id": "ebfca389",
   "metadata": {},
   "outputs": [
    {
     "data": {
      "image/png": "[encoded data removed]",
      "text/plain": [
       "<rdkit.Chem.rdchem.Mol at 0x12454d310>"
      ]
     },
     "execution_count": 5,
     "metadata": {},
     "output_type": "execute_result"
    }
   ],
   "source": [
    "rdkit2ase.networkx2rdkit(graph)"
   ]
  },
  {
   "cell_type": "markdown",
   "id": "29f888dc",
   "metadata": {},
   "source": [
    "Some information, like `pbc` and `box` size are silently lost."
   ]
  },
  {
   "cell_type": "code",
   "execution_count": 6,
   "id": "a5785839",
   "metadata": {},
   "outputs": [
    {
     "data": {
      "text/plain": [
       "Atoms(symbols='OH2OH2OH2OH2OH2C2OH6C2OH6C2OH6C2OH6C2OH6', pbc=True, cell=[8.728901107040366, 8.728901107040366, 8.728901107040366], initial_charges=...)"
      ]
     },
     "execution_count": 6,
     "metadata": {},
     "output_type": "execute_result"
    }
   ],
   "source": [
    "rdkit2ase.networkx2ase(graph)"
   ]
  }
 ],
 "metadata": {
  "kernelspec": {
   "display_name": ".venv",
   "language": "python",
   "name": "python3"
  },
  "language_info": {
   "codemirror_mode": {
    "name": "ipython",
    "version": 3
   },
   "file_extension": ".py",
   "mimetype": "text/x-python",
   "name": "python",
   "nbconvert_exporter": "python",
   "pygments_lexer": "ipython3",
   "version": "3.11.11"
  }
 },
 "nbformat": 4,
 "nbformat_minor": 5
}
