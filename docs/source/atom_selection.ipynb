{
 "cells": [
  {
   "cell_type": "markdown",
   "metadata": {},
   "source": "# Atom Selection and Substructure Matching\n\nThis notebook demonstrates the atom selection and substructure matching capabilities in molify. The package provides a unified approach with advanced features:\n\n- **`match_substructure`**: Pattern matching with RDKit Mol objects supporting SMILES/SMARTS patterns, hydrogen handling, and atom mapping\n- **`group_matches_by_fragment`**: Helper function to organize matches by disconnected molecular fragments\n\nThe examples progress from simple pattern matching to advanced selection techniques with precise control over atom ordering and hydrogen inclusion.\n\n**Key Principle:** Conversions from ASE Atoms to RDKit Mol are explicit using `ase2rdkit(atoms, suggestions=[...])`, giving you full control over bond detection."
  },
  {
   "cell_type": "code",
   "execution_count": 1,
   "metadata": {},
   "outputs": [],
   "source": [
    "from rdkit.Chem import CombineMols, Draw\n",
    "\n",
    "import molify"
   ]
  },
  {
   "cell_type": "markdown",
   "metadata": {},
   "source": "## Basic Substructure Matching with `match_substructure`\n\nThe `match_substructure` function provides pattern matching in molecular structures using RDKit Mol objects. It supports SMILES and SMARTS patterns and returns all matches as tuples of atom indices.\n\nThe function requires explicit conversion from ASE Atoms to RDKit Mol using `ase2rdkit()`, which allows you to control bond detection through the `suggestions` parameter."
  },
  {
   "cell_type": "code",
   "execution_count": null,
   "metadata": {},
   "outputs": [],
   "source": "# Create an ethanol molecule for basic examples\nethanol = molify.smiles2atoms(\"CCO\")\nprint(f\"Ethanol has {len(ethanol)} atoms\")\nprint(f\"Chemical formula: {ethanol.get_chemical_formula()}\")\n\n# Convert to RDKit Mol for substructure matching\nethanol_mol = molify.ase2rdkit(ethanol, suggestions=[\"CCO\"])\n\n# Visualize the structure\nDraw.MolToImage(ethanol_mol, size=(300, 200))"
  },
  {
   "cell_type": "code",
   "execution_count": null,
   "metadata": {},
   "outputs": [],
   "source": "# Match carbon atoms using SMARTS pattern\ncarbon_matches = molify.match_substructure(ethanol_mol, \"[#6]\")\nprint(f\"Carbon atom matches: {carbon_matches}\")\nprint(f\"Number of carbon matches: {len(carbon_matches)}\")\n\n# Match the hydroxyl oxygen\nhydroxyl_matches = molify.match_substructure(ethanol_mol, \"[#8]\")\nprint(f\"\\nHydroxyl oxygen matches: {hydroxyl_matches}\")"
  },
  {
   "cell_type": "code",
   "execution_count": null,
   "metadata": {},
   "outputs": [],
   "source": "# Use SMARTS for more specific pattern matching\n# Match only sp3 carbon atoms (aliphatic carbons with single bonds)\nsp3_carbons = molify.match_substructure(ethanol_mol, \"[C;X4]\")\nprint(f\"sp3 carbon matches: {sp3_carbons}\")\n\n# Match oxygen with exactly one hydrogen (hydroxyl group)\nhydroxyl_oxygen = molify.match_substructure(ethanol_mol, \"[OH1]\")\nprint(f\"Hydroxyl oxygen: {hydroxyl_oxygen}\")"
  },
  {
   "cell_type": "markdown",
   "metadata": {},
   "source": [
    "### Multiple Matches in Complex Molecules\n",
    "\n",
    "When a pattern occurs multiple times in a molecule, `match_substructure` returns all matches as a tuple of tuples, where each inner tuple contains the atom indices for one match."
   ]
  },
  {
   "cell_type": "code",
   "execution_count": null,
   "metadata": {},
   "outputs": [],
   "source": "# Create propanol with multiple carbon atoms\npropanol = molify.smiles2atoms(\"CCCO\")\npropanol_mol = molify.ase2rdkit(propanol, suggestions=[\"CCCO\"])\n\n# Find all carbon atoms\ncarbon_matches = molify.match_substructure(propanol_mol, \"[#6]\")\nprint(f\"All carbon matches in propanol: {carbon_matches}\")\nprint(f\"Total carbon atoms found: {len(carbon_matches)}\")\n\n# Find the C-C-O pattern\ncco_pattern = molify.match_substructure(propanol_mol, \"CCO\")\nprint(f\"\\nC-C-O pattern matches: {cco_pattern}\")\n\n# Visualize\nDraw.MolToImage(propanol_mol, size=(300, 200))"
  },
  {
   "cell_type": "markdown",
   "metadata": {},
   "source": "## Advanced Features: Hydrogen Handling and Atom Mapping\n\nThe `match_substructure` function provides advanced capabilities beyond basic pattern matching:\n\n- **Hydrogen handling**: Three modes (exclude, include, isolated) for precise control over hydrogen inclusion\n- **Atom mapping**: Support for mapped SMILES patterns with guaranteed atom ordering  \n- **Fragment grouping**: Use `group_matches_by_fragment` helper to organize matches by disconnected molecular fragments\n\nThese features are particularly useful in molecular dynamics simulations and quantum chemical calculations where explicit hydrogen control and fragment-aware operations are required."
  },
  {
   "cell_type": "markdown",
   "metadata": {},
   "source": "### Hydrogen Handling Modes\n\nThe function provides three modes for controlling hydrogen atom inclusion in matches:\n\n- **`exclude`** (default): Returns only heavy atoms, excluding all hydrogens\n- **`include`**: Returns heavy atoms followed by their bonded hydrogens\n- **`isolated`**: Returns only the hydrogen atoms bonded to matched heavy atoms\n\nThis capability is particularly useful in molecular dynamics simulations and quantum chemical calculations where explicit hydrogen control is required."
  },
  {
   "cell_type": "code",
   "execution_count": null,
   "metadata": {},
   "outputs": [],
   "source": "# Select the C-O bond pattern with different hydrogen handling\npattern = \"CO\"  # Carbon-Oxygen bond\n\n# Default: exclude hydrogens\nexclude_h = molify.match_substructure(ethanol_mol, pattern, hydrogens=\"exclude\")\nprint(f\"Exclude hydrogens: {exclude_h}\")\n\n# Include hydrogens attached to matched heavy atoms\ninclude_h = molify.match_substructure(ethanol_mol, pattern, hydrogens=\"include\")\nprint(f\"Include hydrogens: {include_h}\")\n\n# Return only the hydrogens attached to matched heavy atoms\nisolated_h = molify.match_substructure(ethanol_mol, pattern, hydrogens=\"isolated\")\nprint(f\"Isolated hydrogens: {isolated_h}\")"
  },
  {
   "cell_type": "markdown",
   "metadata": {},
   "source": "### Fragment-Aware Grouping\n\nWhen working with molecules containing multiple disconnected fragments, use `group_matches_by_fragment` to organize matches by fragment. This helper function takes the raw matches from `match_substructure` and groups them by which disconnected fragment they belong to."
  },
  {
   "cell_type": "code",
   "execution_count": null,
   "metadata": {},
   "outputs": [],
   "source": "# Combine two ethanol molecules into a single Mol object\nmulti_fragment_mol = CombineMols(ethanol_mol, ethanol_mol)\n\n# Select carbon atoms - get all matches first\ncarbon_matches = molify.match_substructure(multi_fragment_mol, \"[#6]\")\nprint(f\"All carbon matches: {carbon_matches}\")\n\n# Group by fragment\ncarbon_indices = molify.group_matches_by_fragment(multi_fragment_mol, carbon_matches)\nprint(f\"Carbon indices grouped by fragment: {carbon_indices}\")\nprint(f\"Fragment 1 carbons: {carbon_indices[0]}\")\nprint(f\"Fragment 2 carbons: {carbon_indices[1]}\")"
  },
  {
   "cell_type": "markdown",
   "execution_count": null,
   "metadata": {},
   "outputs": [],
   "source": "### Mapped SMILES Patterns and Atom Ordering\n\nMapped SMILES patterns provide precise control over which atoms are selected and their ordering in the output. When atom map numbers are specified (e.g., `[C:1]`, `[C:2]`) and `mapped_only=True` is used, only the mapped atoms are returned, ordered by their map numbers in ascending order.\n\nThis feature enables deterministic atom ordering for applications requiring specific atom sequences, such as distance measurements, dihedral angle calculations, or constraint definitions in molecular simulations."
  },
  {
   "cell_type": "code",
   "metadata": {},
   "source": "# Using mapped SMILES to select only specific atoms\n# This pattern matches the carbon-carbon-oxygen chain,\n# but with mapped_only=True, only returns the mapped carbons\nmapped_pattern = \"[C:1][C:2]O\"\nmapped_indices = molify.match_substructure(ethanol_mol, mapped_pattern, mapped_only=True)\nprint(f\"Mapped carbon indices: {mapped_indices}\")\n\n# Compare with mapped_only=False which returns all matched atoms\nunmapped_indices = molify.match_substructure(ethanol_mol, mapped_pattern, mapped_only=False)\nprint(f\"All matched atoms: {unmapped_indices}\")\n\n# Demonstrate atom ordering control with alanine dipeptide\naladip = molify.smiles2atoms(\"CC(=O)NC(C)C(=O)NC\")\naladip_mol = molify.ase2rdkit(aladip, suggestions=[\"CC(=O)NC(C)C(=O)NC\"])\n\n# Select atoms in map order 1, 2, 3, 4\nindices_1234 = molify.match_substructure(\n    aladip_mol, \"CC(=O)N[C:1]([C:2])[C:3](=O)[N:4]C\", mapped_only=True\n)\nprint(f\"\\nMap order 1,2,3,4: {indices_1234}\")\n\n# Select the same atoms but in different map order 4, 3, 2, 1\nindices_4321 = molify.match_substructure(\n    aladip_mol, \"CC(=O)N[C:4]([C:3])[C:2](=O)[N:1]C\", mapped_only=True\n)\nprint(f\"Map order 4,3,2,1: {indices_4321}\")"
  },
  {
   "cell_type": "markdown",
   "metadata": {},
   "source": "### Visualization of Atom Selections\n\nThe `visualize_selected_molecules` function provides visual feedback for atom selections by highlighting selected atoms in molecular structure depictions. Multiple selection sets can be simultaneously visualized with distinct color coding, facilitating comparison and validation of selection patterns.\n\nWhen using with `match_substructure`, you'll need to flatten the matches into a simple list of indices for visualization."
  },
  {
   "cell_type": "code",
   "metadata": {},
   "source": "# Create toluene molecule for visualization examples\ntoluene_smiles = \"Cc1ccccc1\"\ntoluene_mol = molify.ase2rdkit(molify.smiles2atoms(toluene_smiles), suggestions=[\"Cc1ccccc1\"])\n\n# Select different atom types\naromatic_carbons = molify.match_substructure(toluene_mol, \"c\", hydrogens=\"exclude\")\nmethyl_carbon = molify.match_substructure(toluene_mol, \"[C;!c]\", hydrogens=\"exclude\")\n\nprint(f\"Aromatic carbons: {aromatic_carbons}\")\nprint(f\"Methyl carbon: {methyl_carbon}\")\n\n# Flatten matches for visualization\naromatic_flat = [idx for match in aromatic_carbons for idx in match]\nmethyl_flat = [idx for match in methyl_carbon for idx in match]\n\n# Visualize with highlighted selections\nimg = molify.visualize_selected_molecules(\n    toluene_mol, aromatic_flat, methyl_flat\n)\nimg"
  },
  {
   "cell_type": "code",
   "execution_count": null,
   "metadata": {},
   "outputs": [],
   "source": "# Aspirin (acetylsalicylic acid) contains multiple functional groups\naspirin_smiles = \"CC(=O)Oc1ccccc1C(=O)O\"\naspirin_mol = molify.ase2rdkit(molify.smiles2atoms(aspirin_smiles), suggestions=[aspirin_smiles])\n\n# Select different functional groups\n# Acetyl ester group with hydrogens (using mapped_only to get specific atoms)\nacetyl = molify.match_substructure(\n    aspirin_mol, \"[C:1][C:2](=O)[O:4]c1ccccc1C(=O)O\", \n    hydrogens=\"include\", mapped_only=True\n)\n\n# Carbonyl oxygens\ncarbonyls = molify.match_substructure(aspirin_mol, \"[O:1]=C\", mapped_only=True)\n\n# Carboxylic acid hydrogens\nacid_h = molify.match_substructure(aspirin_mol, \"CO\", hydrogens=\"isolated\")\n\n# Flatten for visualization\nacetyl_flat = [idx for match in acetyl for idx in match]\ncarbonyls_flat = [idx for match in carbonyls for idx in match]\nacid_h_flat = [idx for match in acid_h for idx in match]\n\n# Visualize with multiple functional group highlights\nmolify.visualize_selected_molecules(\n    aspirin_mol,\n    acetyl_flat,\n    carbonyls_flat,\n    acid_h_flat,\n    mols_per_row=1,\n    legends=[\"Aspirin functional group analysis\"],\n)"
  }
 ],
 "metadata": {
  "kernelspec": {
   "display_name": "rdkit2ase",
   "language": "python",
   "name": "python3"
  },
  "language_info": {
   "codemirror_mode": {
    "name": "ipython",
    "version": 3
   },
   "file_extension": ".py",
   "mimetype": "text/x-python",
   "name": "python",
   "nbconvert_exporter": "python",
   "pygments_lexer": "ipython3",
   "version": "3.11.11"
  }
 },
 "nbformat": 4,
 "nbformat_minor": 4
}
