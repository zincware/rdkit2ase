{
 "cells": [
  {
   "cell_type": "markdown",
   "id": "b21f7e60",
   "metadata": {},
   "source": [
    "# Packmol Interface"
   ]
  },
  {
   "cell_type": "markdown",
   "id": "285989c9",
   "metadata": {},
   "source": [
    "If you have packmol installed, you can use it via [pack](modules.rst#rdkit2ase.pack) create periodic boxed from `ase.Atoms` objects."
   ]
  },
  {
   "cell_type": "code",
   "execution_count": 1,
   "id": "5b2423ed",
   "metadata": {},
   "outputs": [],
   "source": [
    "from ase.build import separate\n",
    "\n",
    "import rdkit2ase"
   ]
  },
  {
   "cell_type": "code",
   "execution_count": 2,
   "id": "a0f43110",
   "metadata": {},
   "outputs": [],
   "source": [
    "water = rdkit2ase.smiles2conformers(\"O\", numConfs=10)\n",
    "etoh = rdkit2ase.smiles2conformers(\"CCO\", numConfs=10)\n",
    "box = rdkit2ase.pack(\n",
    "    data=[water, etoh], counts=[5, 5], density=800, packmol=\"packmol.jl\"\n",
    ")"
   ]
  },
  {
   "cell_type": "code",
   "execution_count": 3,
   "id": "f6b6bb66",
   "metadata": {},
   "outputs": [
    {
     "name": "stdout",
     "output_type": "stream",
     "text": [
      "Atoms(symbols='OH2OH2OH2OH2OH2C2OH6C2OH6C2OH6C2OH6C2OH6', pbc=True, cell=[8.728901107040366, 8.728901107040366, 8.728901107040366], atomtypes=..., bfactor=..., occupancy=..., residuenames=..., residuenumbers=...)\n"
     ]
    },
    {
     "data": {
      "text/plain": [
       "[Atoms(symbols='OH2', pbc=True, cell=[8.728901107040366, 8.728901107040366, 8.728901107040366]),\n",
       " Atoms(symbols='OH2', pbc=True, cell=[8.728901107040366, 8.728901107040366, 8.728901107040366]),\n",
       " Atoms(symbols='OH2', pbc=True, cell=[8.728901107040366, 8.728901107040366, 8.728901107040366]),\n",
       " Atoms(symbols='OH2', pbc=True, cell=[8.728901107040366, 8.728901107040366, 8.728901107040366]),\n",
       " Atoms(symbols='OH2', pbc=True, cell=[8.728901107040366, 8.728901107040366, 8.728901107040366]),\n",
       " Atoms(symbols='C2H3OH3', pbc=True, cell=[8.728901107040366, 8.728901107040366, 8.728901107040366]),\n",
       " Atoms(symbols='C2H3OH3', pbc=True, cell=[8.728901107040366, 8.728901107040366, 8.728901107040366]),\n",
       " Atoms(symbols='C2H3OH3', pbc=True, cell=[8.728901107040366, 8.728901107040366, 8.728901107040366]),\n",
       " Atoms(symbols='C2H3OH3', pbc=True, cell=[8.728901107040366, 8.728901107040366, 8.728901107040366]),\n",
       " Atoms(symbols='C2H3OH3', pbc=True, cell=[8.728901107040366, 8.728901107040366, 8.728901107040366])]"
      ]
     },
     "execution_count": 3,
     "metadata": {},
     "output_type": "execute_result"
    }
   ],
   "source": [
    "print(box)\n",
    "separate(box)"
   ]
  },
  {
   "cell_type": "markdown",
   "id": "995cdf15",
   "metadata": {},
   "source": [
    "You can utilize all other features here as well."
   ]
  },
  {
   "cell_type": "code",
   "execution_count": 4,
   "id": "6cf8c2cb",
   "metadata": {},
   "outputs": [
    {
     "name": "stdout",
     "output_type": "stream",
     "text": [
      "Found 5 water molecules and 5 ethanol molecules.\n"
     ]
    }
   ],
   "source": [
    "waters = rdkit2ase.match_substructure(\n",
    "    box,\n",
    "    smiles=\"O\",\n",
    ")\n",
    "etohs = rdkit2ase.match_substructure(\n",
    "    box,\n",
    "    smiles=\"CCO\",\n",
    ")\n",
    "print(f\"Found {len(waters)} water molecules and {len(etohs)} ethanol molecules.\")"
   ]
  }
 ],
 "metadata": {
  "kernelspec": {
   "display_name": ".venv",
   "language": "python",
   "name": "python3"
  },
  "language_info": {
   "codemirror_mode": {
    "name": "ipython",
    "version": 3
   },
   "file_extension": ".py",
   "mimetype": "text/x-python",
   "name": "python",
   "nbconvert_exporter": "python",
   "pygments_lexer": "ipython3",
   "version": "3.11.11"
  }
 },
 "nbformat": 4,
 "nbformat_minor": 5
}
