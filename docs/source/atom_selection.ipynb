{
 "cells": [
  {
   "cell_type": "markdown",
   "metadata": {},
   "source": [
    "# Atom Selection and Substructure Matching\n",
    "\n",
    "This notebook demonstrates the atom selection and substructure matching capabilities in molify. The package provides two complementary approaches:\n",
    "\n",
    "- **`match_substructure`**: Basic substructure matching that works directly with ASE Atoms objects and returns matched atom indices.\n",
    "- **`select_atoms_grouped`**: Advanced selection with sophisticated hydrogen handling, atom mapping support, and fragment-aware grouping using RDKit Mol objects.\n",
    "\n",
    "The examples progress from simple pattern matching to advanced selection techniques with precise control over atom ordering and hydrogen inclusion."
   ]
  },
  {
   "cell_type": "code",
   "execution_count": 1,
   "metadata": {},
   "outputs": [],
   "source": [
    "from rdkit.Chem import CombineMols, Draw\n",
    "\n",
    "import molify"
   ]
  },
  {
   "cell_type": "markdown",
   "metadata": {},
   "source": [
    "## Basic Substructure Matching with `match_substructure`\n",
    "\n",
    "The `match_substructure` function provides straightforward pattern matching in molecular structures. It operates directly on ASE Atoms objects and supports multiple pattern specification methods including SMILES, SMARTS, RDKit Mol objects, and ASE fragment matching."
   ]
  },
  {
   "cell_type": "code",
   "execution_count": 2,
   "metadata": {},
   "outputs": [
    {
     "name": "stdout",
     "output_type": "stream",
     "text": [
      "Ethanol has 9 atoms\n",
      "Chemical formula: C2H6O\n"
     ]
    },
    {
     "data": {
      "image/jpeg": "[encoded data removed]",
      "image/png": "[encoded data removed]",
      "text/plain": [
       "<PIL.PngImagePlugin.PngImageFile image mode=RGB size=300x200>"
      ]
     },
     "execution_count": 2,
     "metadata": {},
     "output_type": "execute_result"
    }
   ],
   "source": [
    "# Create an ethanol molecule for basic examples\n",
    "ethanol = molify.smiles2atoms(\"CCO\")\n",
    "print(f\"Ethanol has {len(ethanol)} atoms\")\n",
    "print(f\"Chemical formula: {ethanol.get_chemical_formula()}\")\n",
    "\n",
    "# Visualize the structure\n",
    "ethanol_mol = molify.ase2rdkit(ethanol)\n",
    "Draw.MolToImage(ethanol_mol, size=(300, 200))"
   ]
  },
  {
   "cell_type": "code",
   "execution_count": 3,
   "metadata": {},
   "outputs": [
    {
     "name": "stdout",
     "output_type": "stream",
     "text": [
      "Carbon atom matches: ()\n",
      "Number of carbon matches: 0\n",
      "\n",
      "Hydroxyl oxygen matches: ()\n"
     ]
    }
   ],
   "source": [
    "# Match carbon atoms using SMILES pattern\n",
    "carbon_matches = molify.match_substructure(ethanol, smiles=\"C\")\n",
    "print(f\"Carbon atom matches: {carbon_matches}\")\n",
    "print(f\"Number of carbon matches: {len(carbon_matches)}\")\n",
    "\n",
    "# Match the hydroxyl group (O-H)\n",
    "hydroxyl_matches = molify.match_substructure(ethanol, smiles=\"O\")\n",
    "print(f\"\\nHydroxyl oxygen matches: {hydroxyl_matches}\")"
   ]
  },
  {
   "cell_type": "code",
   "execution_count": 4,
   "metadata": {},
   "outputs": [
    {
     "name": "stdout",
     "output_type": "stream",
     "text": [
      "sp3 carbon matches: ((0,), (1,))\n",
      "Hydroxyl oxygen: ((2,),)\n"
     ]
    }
   ],
   "source": [
    "# Use SMARTS for more specific pattern matching\n",
    "# Match only sp3 carbon atoms (aliphatic carbons with single bonds)\n",
    "sp3_carbons = molify.match_substructure(ethanol, smarts=\"[C;X4]\")\n",
    "print(f\"sp3 carbon matches: {sp3_carbons}\")\n",
    "\n",
    "# Match oxygen with exactly one hydrogen (hydroxyl group)\n",
    "hydroxyl_oxygen = molify.match_substructure(ethanol, smarts=\"[OH1]\")\n",
    "print(f\"Hydroxyl oxygen: {hydroxyl_oxygen}\")"
   ]
  },
  {
   "cell_type": "markdown",
   "metadata": {},
   "source": [
    "### Multiple Matches in Complex Molecules\n",
    "\n",
    "When a pattern occurs multiple times in a molecule, `match_substructure` returns all matches as a tuple of tuples, where each inner tuple contains the atom indices for one match."
   ]
  },
  {
   "cell_type": "code",
   "execution_count": 5,
   "metadata": {},
   "outputs": [
    {
     "name": "stdout",
     "output_type": "stream",
     "text": [
      "All carbon matches in propanol: ()\n",
      "Total carbon atoms found: 0\n",
      "\n",
      "C-C-O pattern matches: ()\n"
     ]
    },
    {
     "data": {
      "image/jpeg": "[encoded data removed]",
      "image/png": "[encoded data removed]",
      "text/plain": [
       "<PIL.PngImagePlugin.PngImageFile image mode=RGB size=300x200>"
      ]
     },
     "execution_count": 5,
     "metadata": {},
     "output_type": "execute_result"
    }
   ],
   "source": [
    "# Create propanol with multiple carbon atoms\n",
    "propanol = molify.smiles2atoms(\"CCCO\")\n",
    "propanol_mol = molify.ase2rdkit(propanol)\n",
    "\n",
    "# Find all methyl groups (CH3)\n",
    "methyl_matches = molify.match_substructure(propanol, smiles=\"C\")\n",
    "print(f\"All carbon matches in propanol: {methyl_matches}\")\n",
    "print(f\"Total carbon atoms found: {len(methyl_matches)}\")\n",
    "\n",
    "# Find the C-C-O pattern\n",
    "cco_pattern = molify.match_substructure(propanol, smiles=\"CCO\")\n",
    "print(f\"\\nC-C-O pattern matches: {cco_pattern}\")\n",
    "\n",
    "# Visualize\n",
    "Draw.MolToImage(propanol_mol, size=(300, 200))"
   ]
  },
  {
   "cell_type": "markdown",
   "metadata": {},
   "source": [
    "## Advanced Atom Selection with `select_atoms_grouped`\n",
    "\n",
    "While `match_substructure` provides basic pattern matching, `select_atoms_grouped` offers advanced capabilities for more sophisticated selection tasks:\n",
    "\n",
    "- **Fragment-aware grouping**: Automatically groups selections by disconnected molecular fragments\n",
    "- **Hydrogen handling**: Three modes (exclude, include, isolated) for precise control over hydrogen inclusion\n",
    "- **Atom mapping**: Support for mapped SMILES patterns with guaranteed atom ordering\n",
    "- **RDKit integration**: Works directly with RDKit Mol objects for seamless integration\n",
    "\n",
    "This function is particularly useful when working with multi-fragment systems or when precise control over hydrogen atoms is required."
   ]
  },
  {
   "cell_type": "markdown",
   "metadata": {},
   "source": [
    "### Basic Selection with SMARTS Patterns\n",
    "\n",
    "The fundamental usage of `select_atoms_grouped` involves providing an RDKit Mol object and a SMARTS or SMILES pattern. Results are grouped by disconnected molecular fragments."
   ]
  },
  {
   "cell_type": "code",
   "execution_count": 6,
   "metadata": {},
   "outputs": [
    {
     "name": "stdout",
     "output_type": "stream",
     "text": [
      "Carbon atom indices: [[0, 1]]\n",
      "Oxygen atom indices: [[2]]\n"
     ]
    }
   ],
   "source": [
    "# Select all carbon atoms using atomic number in SMARTS\n",
    "carbon_indices = molify.select_atoms_grouped(ethanol_mol, \"[#6]\")\n",
    "print(f\"Carbon atom indices: {carbon_indices}\")\n",
    "\n",
    "# Select the oxygen atom\n",
    "oxygen_indices = molify.select_atoms_grouped(ethanol_mol, \"[#8]\")\n",
    "print(f\"Oxygen atom indices: {oxygen_indices}\")"
   ]
  },
  {
   "cell_type": "markdown",
   "metadata": {},
   "source": [
    "### Fragment-Aware Grouping\n",
    "\n",
    "When working with molecules containing multiple disconnected fragments, `select_atoms_grouped` automatically organizes selections by fragment. Each fragment's matched atoms are returned as a separate list."
   ]
  },
  {
   "cell_type": "code",
   "execution_count": 7,
   "metadata": {},
   "outputs": [
    {
     "name": "stdout",
     "output_type": "stream",
     "text": [
      "Carbon indices grouped by fragment: [[0, 1], [9, 10]]\n",
      "Fragment 1 carbons: [0, 1]\n",
      "Fragment 2 carbons: [9, 10]\n"
     ]
    }
   ],
   "source": [
    "# Combine two ethanol molecules into a single Mol object\n",
    "multi_fragment_mol = CombineMols(ethanol_mol, ethanol_mol)\n",
    "\n",
    "# Select carbon atoms - results are grouped by fragment\n",
    "carbon_indices = molify.select_atoms_grouped(multi_fragment_mol, \"[#6]\")\n",
    "print(f\"Carbon indices grouped by fragment: {carbon_indices}\")\n",
    "print(f\"Fragment 1 carbons: {carbon_indices[0]}\")\n",
    "print(f\"Fragment 2 carbons: {carbon_indices[1]}\")"
   ]
  },
  {
   "cell_type": "markdown",
   "metadata": {},
   "source": [
    "### Hydrogen Handling Modes\n",
    "\n",
    "The function provides three modes for controlling hydrogen atom inclusion in selections:\n",
    "\n",
    "- **`exclude`** (default): Returns only heavy atoms, excluding all hydrogens\n",
    "- **`include`**: Returns heavy atoms followed by their bonded hydrogens\n",
    "- **`isolated`**: Returns only the hydrogen atoms bonded to selected heavy atoms\n",
    "\n",
    "This capability is particularly useful in molecular dynamics simulations and quantum chemical calculations where explicit hydrogen control is required."
   ]
  },
  {
   "cell_type": "code",
   "execution_count": 8,
   "metadata": {},
   "outputs": [
    {
     "name": "stdout",
     "output_type": "stream",
     "text": [
      "Exclude hydrogens: [[1, 2]]\n",
      "Include hydrogens: [[1, 6, 7, 2, 8]]\n",
      "Isolated hydrogens: [[6, 7, 8]]\n"
     ]
    }
   ],
   "source": [
    "# Select the C-O bond pattern with different hydrogen handling\n",
    "pattern = \"CO\"  # Carbon-Oxygen bond\n",
    "\n",
    "# Default: exclude hydrogens\n",
    "exclude_h = molify.select_atoms_grouped(ethanol_mol, pattern, hydrogens=\"exclude\")\n",
    "print(f\"Exclude hydrogens: {exclude_h}\")\n",
    "\n",
    "# Include hydrogens attached to matched heavy atoms\n",
    "include_h = molify.select_atoms_grouped(ethanol_mol, pattern, hydrogens=\"include\")\n",
    "print(f\"Include hydrogens: {include_h}\")\n",
    "\n",
    "# Return only the hydrogens attached to matched heavy atoms\n",
    "isolated_h = molify.select_atoms_grouped(ethanol_mol, pattern, hydrogens=\"isolated\")\n",
    "print(f\"Isolated hydrogens: {isolated_h}\")"
   ]
  },
  {
   "cell_type": "markdown",
   "metadata": {},
   "source": [
    "### Mapped SMILES Patterns and Atom Ordering\n",
    "\n",
    "Mapped SMILES patterns provide precise control over which atoms are selected and their ordering in the output. When atom map numbers are specified (e.g., `[C:1]`, `[C:2]`), only the mapped atoms are returned, ordered by their map numbers in ascending order.\n",
    "\n",
    "This feature enables deterministic atom ordering for applications requiring specific atom sequences, such as distance measurements, dihedral angle calculations, or constraint definitions in molecular simulations."
   ]
  },
  {
   "cell_type": "code",
   "execution_count": 9,
   "metadata": {},
   "outputs": [
    {
     "name": "stdout",
     "output_type": "stream",
     "text": [
      "Mapped carbon indices: [[0, 1]]\n",
      "Unmapped pattern indices: [[0, 1, 2]]\n",
      "\n",
      "Map order 1,2,3,4: [[4, 5, 6, 8]]\n",
      "Map order 4,3,2,1: [[8, 6, 5, 4]]\n"
     ]
    }
   ],
   "source": [
    "# Using mapped SMILES to select only specific atoms\n",
    "# This pattern matches the carbon-carbon-oxygen chain,\n",
    "# but only returns the mapped carbons in the specified order\n",
    "mapped_pattern = \"[C:1][C:2]O\"\n",
    "mapped_indices = molify.select_atoms_grouped(ethanol_mol, mapped_pattern)\n",
    "print(f\"Mapped carbon indices: {mapped_indices}\")\n",
    "\n",
    "# Compare with unmapped pattern which returns all atoms in the match\n",
    "unmapped_pattern = \"CCO\"\n",
    "unmapped_indices = molify.select_atoms_grouped(ethanol_mol, unmapped_pattern)\n",
    "print(f\"Unmapped pattern indices: {unmapped_indices}\")\n",
    "\n",
    "# Demonstrate atom ordering control with alanine dipeptide\n",
    "aladip = molify.smiles2atoms(\"CC(=O)NC(C)C(=O)NC\")\n",
    "aladip_mol = molify.ase2rdkit(aladip)\n",
    "\n",
    "# Select atoms in map order 1, 2, 3, 4\n",
    "indices_1234 = molify.select_atoms_grouped(\n",
    "    aladip_mol, \"CC(=O)N[C:1]([C:2])[C:3](=O)[N:4]C\"\n",
    ")\n",
    "print(f\"\\nMap order 1,2,3,4: {indices_1234}\")\n",
    "\n",
    "# Select the same atoms but in different map order 4, 3, 2, 1\n",
    "indices_4321 = molify.select_atoms_grouped(\n",
    "    aladip_mol, \"CC(=O)N[C:4]([C:3])[C:2](=O)[N:1]C\"\n",
    ")\n",
    "print(f\"Map order 4,3,2,1: {indices_4321}\")"
   ]
  },
  {
   "cell_type": "markdown",
   "metadata": {},
   "source": [
    "### Visualization of Atom Selections\n",
    "\n",
    "The `visualize_selected_molecules` function provides visual feedback for atom selections by highlighting selected atoms in molecular structure depictions. Multiple selection sets can be simultaneously visualized with distinct color coding, facilitating comparison and validation of selection patterns."
   ]
  },
  {
   "cell_type": "code",
   "execution_count": 10,
   "metadata": {},
   "outputs": [
    {
     "name": "stdout",
     "output_type": "stream",
     "text": [
      "Aromatic carbons: [[1, 2, 3, 4, 5, 6]]\n",
      "Methyl carbon: [[0]]\n"
     ]
    },
    {
     "data": {
      "image/png": "[encoded data removed]",
      "text/plain": [
       "<IPython.core.display.Image object>"
      ]
     },
     "execution_count": 10,
     "metadata": {},
     "output_type": "execute_result"
    }
   ],
   "source": [
    "# Create toluene molecule for visualization examples\n",
    "toluene_smiles = \"Cc1ccccc1\"\n",
    "toluene_mol = molify.ase2rdkit(molify.smiles2atoms(toluene_smiles))\n",
    "\n",
    "# Select different atom types\n",
    "aromatic_carbons = molify.select_atoms_grouped(toluene_mol, \"c\", hydrogens=\"exclude\")\n",
    "methyl_carbon = molify.select_atoms_grouped(toluene_mol, \"[C;!c]\", hydrogens=\"exclude\")\n",
    "\n",
    "print(f\"Aromatic carbons: {aromatic_carbons}\")\n",
    "print(f\"Methyl carbon: {methyl_carbon}\")\n",
    "\n",
    "# Visualize with highlighted selections\n",
    "img = molify.visualize_selected_molecules(\n",
    "    toluene_mol, aromatic_carbons[0], methyl_carbon[0]\n",
    ")\n",
    "img"
   ]
  },
  {
   "cell_type": "markdown",
   "metadata": {},
   "source": [
    "### Functional Group Selection in Complex Molecules\n",
    "\n",
    "The advanced selection capabilities can be applied to identify and isolate functional groups within complex molecular structures. The following example demonstrates multi-pattern selection in aspirin (acetylsalicylic acid), highlighting different functional groups with independent color coding."
   ]
  },
  {
   "cell_type": "code",
   "execution_count": 11,
   "metadata": {},
   "outputs": [
    {
     "data": {
      "image/png": "[encoded data removed]",
      "text/plain": [
       "<IPython.core.display.Image object>"
      ]
     },
     "execution_count": 11,
     "metadata": {},
     "output_type": "execute_result"
    }
   ],
   "source": [
    "# Aspirin (acetylsalicylic acid) contains multiple functional groups\n",
    "aspirin_smiles = \"CC(=O)Oc1ccccc1C(=O)O\"\n",
    "aspirin_mol = molify.ase2rdkit(molify.smiles2atoms(aspirin_smiles))\n",
    "\n",
    "# Visualize with multiple functional group highlights\n",
    "molify.visualize_selected_molecules(\n",
    "    aspirin_mol,\n",
    "    # Acetyl ester group with hydrogens\n",
    "    molify.select_atoms_grouped(\n",
    "        aspirin_mol, \"[C:1][C:2](=O)[O:4]c1ccccc1C(=O)O\", hydrogens=\"include\"\n",
    "    )[0],\n",
    "    # Carbonyl oxygens\n",
    "    molify.select_atoms_grouped(aspirin_mol, \"[O:1]=C\")[0],\n",
    "    # Carboxylic acid hydrogens\n",
    "    molify.select_atoms_grouped(aspirin_mol, \"CO\", hydrogens=\"isolated\")[0],\n",
    "    mols_per_row=1,\n",
    "    legends=[\"Aspirin functional group analysis\"],\n",
    ")"
   ]
  }
 ],
 "metadata": {
  "kernelspec": {
   "display_name": "rdkit2ase",
   "language": "python",
   "name": "python3"
  },
  "language_info": {
   "codemirror_mode": {
    "name": "ipython",
    "version": 3
   },
   "file_extension": ".py",
   "mimetype": "text/x-python",
   "name": "python",
   "nbconvert_exporter": "python",
   "pygments_lexer": "ipython3",
   "version": "3.11.11"
  }
 },
 "nbformat": 4,
 "nbformat_minor": 4
}
